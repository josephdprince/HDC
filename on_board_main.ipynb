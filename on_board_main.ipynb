{
 "cells": [
  {
   "cell_type": "markdown",
   "metadata": {},
   "source": [
    "Code to run pynq board\n",
    "=======\n",
    "\n",
    "This code act as the main function file that connect our HDC code with the pynq board so that we can run the trainings"
   ]
  },
  {
   "cell_type": "code",
   "execution_count": null,
   "metadata": {},
   "outputs": [],
   "source": [
    "import numpy as np\n",
    "import pynq\n",
    "from pynq import Overlay\n",
    "\n",
    "overlay = Overlay(\"../\")\n",
    "\n",
    "vecadd_inst = overlay.pl_vecadd_0"
   ]
  }
 ],
 "metadata": {
  "kernelspec": {
   "display_name": "Python 3.10.8 64-bit (microsoft store)",
   "language": "python",
   "name": "python3"
  },
  "language_info": {
   "name": "python",
   "version": "3.10.8"
  },
  "orig_nbformat": 4,
  "vscode": {
   "interpreter": {
    "hash": "3aa2d43f1f52b82e28179220a24f9c9d6c405cc6b3f713cf6d89356c612efe47"
   }
  }
 },
 "nbformat": 4,
 "nbformat_minor": 2
}
