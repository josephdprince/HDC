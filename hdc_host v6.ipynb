{
 "cells": [
  {
   "cell_type": "markdown",
   "id": "775980ba",
   "metadata": {},
   "source": [
    "This Notebook runs HDC code on pynq board.\n",
    "======\n",
    "We compare the acuracy and time it takes to run HDC code on FPGA vs. HDC code with numpy.\n",
    "Both version uses pre-populated basis and classes vectors. "
   ]
  },
  {
   "cell_type": "code",
   "execution_count": 13,
   "id": "7716f804",
   "metadata": {
    "scrolled": true
   },
   "outputs": [],
   "source": [
    "#Settings for the project\n",
    "import pynq\n",
    "from pynq import Overlay\n",
    "\n",
    "import numpy as np\n",
    "import time\n",
    "\n",
    "program_start = time.time()\n",
    "num_dims = 1024\n",
    "num_features = 784\n",
    "num_classes = 10\n",
    "num_test = 100\n",
    "\n",
    "#Grabbing the IP of wrapper function\n",
    "overlay = Overlay(\"/home/xilinx/jupyter_notebooks/HDC/hdc_v6.bit\")\n",
    "encode_inst = overlay.hdc_wrapper_0\n"
   ]
  },
  {
   "cell_type": "markdown",
   "id": "f8400fcf",
   "metadata": {},
   "source": [
    "Load in the MNIST test data and pre-populated basis and classes vector\n",
    "-----------\n",
    "All data and vectors are stored in csv file.\n",
    "The csv files are in HDC/DataBase folder"
   ]
  },
  {
   "cell_type": "code",
   "execution_count": 2,
   "id": "fe1d3b4d",
   "metadata": {
    "scrolled": true
   },
   "outputs": [],
   "source": [
    "import csv\n",
    "parsing_start = time.time()\n",
    "all_test_data = []\n",
    "all_label = []\n",
    "#parse the test data\n",
    "with open('/home/xilinx/jupyter_notebooks/HDC/DataBase/mnist_test.csv', 'r') as csvfile:\n",
    "    allRow = csvfile.readlines()\n",
    "    for i, data in enumerate(allRow):\n",
    "        if i == 0: continue #skipping the header\n",
    "        for j, elem in enumerate(data.split(',')):\n",
    "            if j == 0: all_label.append(int(elem))\n",
    "            else: all_test_data.append(int(elem))"
   ]
  },
  {
   "cell_type": "code",
   "execution_count": 3,
   "id": "78fa1a2c",
   "metadata": {
    "scrolled": false
   },
   "outputs": [],
   "source": [
    "#loading the pre-populated basis\n",
    "basis_1d = [0]*(num_dims*num_features)\n",
    "with open('/home/xilinx/jupyter_notebooks/HDC/DataBase/basis.csv', 'r') as file:\n",
    "    csvfile = csv.reader(file)\n",
    "    for line in csvfile:\n",
    "        if len(line) > 0:\n",
    "            basis_1d[:] = map(float, line)"
   ]
  },
  {
   "cell_type": "code",
   "execution_count": 4,
   "id": "9eebb231",
   "metadata": {},
   "outputs": [],
   "source": [
    "#loading the pre-populated classes vector\n",
    "classes_array = []\n",
    "with open('/home/xilinx/jupyter_notebooks/HDC/DataBase/classes.csv', 'r') as file:\n",
    "    csvfile = csv.reader(file)\n",
    "    for line in csvfile:\n",
    "        if len(line) > 0:\n",
    "            classes_array.append(list(map(float, line)))\n",
    "parsing_end = time.time()"
   ]
  },
  {
   "cell_type": "markdown",
   "id": "81998441",
   "metadata": {},
   "source": [
    "Running the HDC code on FPGA\n",
    "-----------\n",
    "We first allocate memories for the input parameters. Then we populate the memories with correct inputs. After that we send the parameters over to the FPGA for calculation.\n",
    "\n",
    "After the calculation is completed, we will run similarity test to see the accuracy of the results on classifying the images."
   ]
  },
  {
   "cell_type": "code",
   "execution_count": 5,
   "id": "0bb4261f",
   "metadata": {},
   "outputs": [],
   "source": [
    "#Initialize\n",
    "array_samples = pynq.allocate(shape=(num_test*num_features), dtype=np.float32)\n",
    "array_basis   = pynq.allocate(shape=(num_dims*num_features), dtype=np.float32)\n",
    "array_results = pynq.allocate(shape=(num_test*num_dims), dtype=np.float32)"
   ]
  },
  {
   "cell_type": "code",
   "execution_count": 6,
   "id": "42cb54a6",
   "metadata": {},
   "outputs": [],
   "source": [
    "array_samples[:] = all_test_data[:num_test*num_features]\n",
    "array_basis[:]   = basis_1d\n",
    "array_results[:] = np.zeros(shape=(num_test*num_dims,), dtype=np.float32)\n",
    "\n",
    "\n",
    "array_samples.sync_to_device()\n",
    "array_basis.sync_to_device()\n",
    "array_results.sync_to_device()"
   ]
  },
  {
   "cell_type": "code",
   "execution_count": 7,
   "id": "bba211a4",
   "metadata": {},
   "outputs": [],
   "source": [
    "encode_inst.mmio.write_reg(0x10, array_samples.physical_address)\n",
    "encode_inst.mmio.write_reg(0x14, 0)\n",
    "encode_inst.mmio.write_reg(0x1c, array_basis.physical_address)\n",
    "encode_inst.mmio.write_reg(0x20, 0)\n",
    "encode_inst.mmio.write_reg(0x28, array_results.physical_address)\n",
    "encode_inst.mmio.write_reg(0x2c, 0)"
   ]
  },
  {
   "cell_type": "code",
   "execution_count": 8,
   "id": "d960ae3d",
   "metadata": {},
   "outputs": [
    {
     "name": "stdout",
     "output_type": "stream",
     "text": [
      "4\n",
      "4\n",
      "1\n",
      "4\n",
      "accelerator done\n"
     ]
    }
   ],
   "source": [
    "#Run on FPGA\n",
    "ip_status = encode_inst.read(0x00)\n",
    "print(ip_status)\n",
    "\n",
    "ip_status = encode_inst.read(0x00)\n",
    "print(ip_status)\n",
    "\n",
    "encode_inst.write(0x00, 1)\n",
    "ip_status = encode_inst.read(0x00)\n",
    "print(ip_status)\n",
    "while (ip_status == 1):\n",
    "    ip_status = encode_inst.read(0x00)\n",
    "\n",
    "ip_status = encode_inst.read(0x00)\n",
    "print(ip_status)\n",
    "print('accelerator done')\n"
   ]
  },
  {
   "cell_type": "code",
   "execution_count": 9,
   "id": "ca5aa1ec",
   "metadata": {},
   "outputs": [
    {
     "name": "stdout",
     "output_type": "stream",
     "text": [
      "4\n"
     ]
    }
   ],
   "source": [
    "ip_status = encode_inst.read(0x00)\n",
    "print(ip_status)\n",
    "\n",
    "#pulling result from function\n",
    "array_samples.sync_from_device()\n",
    "array_basis.sync_from_device()\n",
    "array_results.sync_from_device()\n"
   ]
  },
  {
   "cell_type": "code",
   "execution_count": 10,
   "id": "56e7e50b",
   "metadata": {},
   "outputs": [
    {
     "name": "stdout",
     "output_type": "stream",
     "text": [
      "Classified 100 images. Accuracy 80/100 = 80.0%\n",
      "Calculation using FPGA finished in 126.70011043548584 seconds\n"
     ]
    }
   ],
   "source": [
    "import DataBase.similarity as sim\n",
    "total_correct = 0\n",
    "for i in range(num_test):\n",
    "    start = i*num_dims\n",
    "    end = start + num_dims\n",
    "    encoded_test = array_results[start:end]\n",
    "    result = sim.similarity(encoded_test, classes_array)\n",
    "    if result == all_label[i]: total_correct += 1\n",
    "print(f\"Classified {num_test} images. Accuracy {total_correct}/{num_test} = {total_correct/num_test *100}%\")\n",
    "HDC_end = time.time()\n",
    "print(f\"Calculation using FPGA finished in {HDC_end - parsing_end} seconds\")    "
   ]
  },
  {
   "cell_type": "markdown",
   "id": "794d9c66",
   "metadata": {},
   "source": [
    "Running the HDC code with numpy\n",
    "-----------"
   ]
  },
  {
   "cell_type": "code",
   "execution_count": 11,
   "id": "58a50dd9",
   "metadata": {},
   "outputs": [
    {
     "name": "stdout",
     "output_type": "stream",
     "text": [
      "Classified 100 images. Accuracy 80/100 = 80.0%\n",
      "Calculation using numpy finished in 14.992710590362549 seconds\n"
     ]
    }
   ],
   "source": [
    "np_start = time.time()\n",
    "#doing dot product with numpy\n",
    "basis_2d = np.reshape(basis_1d, (num_features, num_dims), order='F')\n",
    "np_total_correct = 0\n",
    "for i in range(num_test):\n",
    "    start = i*num_features\n",
    "    end = start + num_features\n",
    "    pased_sample = all_test_data[start:end]\n",
    "    \n",
    "    #doing dot product\n",
    "    ref_encoded = np.dot(pased_sample, basis_2d)\n",
    "    encoded_max = np.max(ref_encoded)\n",
    "    encoded_min = np.min(ref_encoded)\n",
    "    ref_encoded = -1.0 + (2.0 / (encoded_max - encoded_min)) * (ref_encoded - encoded_min)\n",
    "    \n",
    "    #similarity check\n",
    "    result = sim.similarity(ref_encoded, classes_array)\n",
    "    if result == all_label[i]: np_total_correct += 1\n",
    "        \n",
    "print(f\"Classified {num_test} images. Accuracy {np_total_correct}/{num_test} = {np_total_correct/num_test *100}%\")\n",
    "np_end = time.time()\n",
    "print(f\"Calculation using numpy finished in {np_end - np_start} seconds\")  "
   ]
  }
 ],
 "metadata": {
  "kernelspec": {
   "display_name": "Python 3 (ipykernel)",
   "language": "python",
   "name": "python3"
  },
  "language_info": {
   "codemirror_mode": {
    "name": "ipython",
    "version": 3
   },
   "file_extension": ".py",
   "mimetype": "text/x-python",
   "name": "python",
   "nbconvert_exporter": "python",
   "pygments_lexer": "ipython3",
   "version": "3.10.4"
  }
 },
 "nbformat": 4,
 "nbformat_minor": 5
}
